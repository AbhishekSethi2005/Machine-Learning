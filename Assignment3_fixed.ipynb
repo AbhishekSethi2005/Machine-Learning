#Assignment 3 : logistic regression
import pandas as pd

# load dataset
pima = pd.read_csv("diabetes.csv")
pima.columns = ['pregnant','glucose','bp','skin','insulin','bmi','pedigree','age','label']

**Loading Data**
pima.head()

**Selecting Features**
#split dataset into features and target variables

feature_cols = ['pregnant','insulin','bmi','age','glucose','bp','pedigree']
X = pima[feature_cols]  # Features
y = pima.label # Target variable

**Splitting Data**
# split X and y into training and testing sets
from sklearn.model_selection import train_test_split

X_train, X_test, y_train, y_test = train_test_split(X, y, test_size=0.25, random_state = 16)

**Model Development and Prediction**
# import the class 
from sklearn.linear_model import LogisticRegression

# instantiate the model (using the default parameters)
logreg = LogisticRegression(random_state = 16)

# fit the model with data
logreg.fit (X_train, y_train)

y_pred = logreg.predict(X_test)

**Model Evaluation using Confusion Matrix**
# import the matrics class
from sklearn import metrics

cnf_matrix = metrics.confusion_matrix(y_test, y_pred)
cnf_matrix

**Visualizing confusion matrix using a heatmap**

# import required Modules 
import numpy as np
import matplotlib.pyplot as plt
import seaborn as sns

class_name = [0,1] #name of the classes
fig, ax = plt.subplots()
tick_marks = np.arange(len(class_name))
plt.xticks(tick_marks, class_name)
plt.yticks(tick_marks, class_name)
# create heatmap
sns.heatmap(pd.DataFrame(cnf_matrix), annot = True, cmap = "YlGnBu", fmt = 'g')
ax.xaxis.set_label_position("top")
plt.tight_layout()
plt.title("Confusion matrix", y=1.1)
plt.ylabel("Actual label")
plt.xlabel("Predicted label")
plt.show()
